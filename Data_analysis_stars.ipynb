{
 "cells": [
  {
   "cell_type": "markdown",
   "metadata": {},
   "source": [
    "# Data analysis"
   ]
  },
  {
   "cell_type": "code",
   "execution_count": 149,
   "metadata": {},
   "outputs": [],
   "source": [
    "import numpy as np\n",
    "import pandas as pd\n",
    "import math"
   ]
  },
  {
   "cell_type": "markdown",
   "metadata": {},
   "source": [
    "### Make a dictionary of the constellation names of the format $\\newline$ {abbreviation: constellation_name...}"
   ]
  },
  {
   "cell_type": "code",
   "execution_count": 34,
   "metadata": {},
   "outputs": [],
   "source": [
    "constellations_names_csv = pd.read_csv(\"data/constellation_names.csv\", delimiter= ',', header = None)\n",
    "constellations_names_csv.columns = ['cons_name_abb', 'cons_name', 'cons_name_std']"
   ]
  },
  {
   "cell_type": "code",
   "execution_count": 88,
   "metadata": {},
   "outputs": [],
   "source": [
    "# print(constellations_names_csv)"
   ]
  },
  {
   "cell_type": "code",
   "execution_count": 47,
   "metadata": {},
   "outputs": [],
   "source": [
    "constellation_names = {}\n",
    "for rows, cols in constellations_names_csv.iterrows():\n",
    "    constellation_names[cols['cons_name_abb']] =  cols['cons_name']\n",
    "# print(constellation_names)"
   ]
  },
  {
   "cell_type": "markdown",
   "metadata": {},
   "source": [
    "### constellations_art"
   ]
  },
  {
   "cell_type": "code",
   "execution_count": 86,
   "metadata": {},
   "outputs": [
    {
     "name": "stderr",
     "output_type": "stream",
     "text": [
      "b'Skipping line 6: expected 11 fields, saw 12\\nSkipping line 74: expected 11 fields, saw 12\\n'\n"
     ]
    }
   ],
   "source": [
    "constellations_art_csv = pd.read_csv(\"data/constellations_art.csv\", delimiter=' ', header = None, error_bad_lines=False)\n",
    "constellations_art_csv.loc[-1] = [\"Ara\",\"ara.png\", \"98\", \"70\", \"83081\", \"191\", \"93\", \"85727\", \"107\", \"249\", \"88714\"] \n",
    "constellations_art_csv.loc[-2] = [\"Sge\", \"sagitta.png\", \"6\", \"12\", \"98920\", \"249\", \"213\", \"96757\", \"218\", \"243\", \"96837\"] \n",
    "\n",
    "constellations_art_csv.columns = ['cons_name_abb', 'image', \"star1_x\", \"star1_y\", \"star1_hip\", \"star2_x\", \"star2_y\", \"star2_hip\", \"star3_x\", \"star3_y\", \"star3_hip\"]"
   ]
  },
  {
   "cell_type": "code",
   "execution_count": 87,
   "metadata": {},
   "outputs": [],
   "source": [
    "# print(constellations_art_csv)"
   ]
  },
  {
   "cell_type": "markdown",
   "metadata": {},
   "source": [
    "### constellations_hip"
   ]
  },
  {
   "cell_type": "code",
   "execution_count": 135,
   "metadata": {
    "scrolled": true
   },
   "outputs": [],
   "source": [
    "column_names = list(range(1,60))\n",
    "constellations_hip_csv = pd.read_csv(\"data/constellations_hip.csv\", delimiter=' ', header = None, names = column_names)"
   ]
  },
  {
   "cell_type": "code",
   "execution_count": 161,
   "metadata": {},
   "outputs": [],
   "source": [
    "# print(constellations_hip_csv)"
   ]
  },
  {
   "cell_type": "code",
   "execution_count": 163,
   "metadata": {},
   "outputs": [],
   "source": [
    "constellations_lines = {}\n",
    "for i in range(88):\n",
    "    constellations_lines[constellations_hip_csv[1][i]] = constellations_hip_csv[2][i]\n",
    "# print(constellations_lines)"
   ]
  },
  {
   "cell_type": "code",
   "execution_count": 162,
   "metadata": {},
   "outputs": [],
   "source": [
    "constellation_lines_bw_hip = {}\n",
    "hip_values = []\n",
    "for i in range(88):\n",
    "    for j in range(3,59):\n",
    "        if not(math.isnan(float(constellations_hip_csv[j][i]))):\n",
    "            hip_values.append(constellations_hip_csv[j][i])\n",
    "    constellation_lines_bw_hip[constellations_hip_csv[1][i]] = hip_values\n",
    "    hip_values = []\n",
    "# print(constellation_lines_bw_hip)"
   ]
  }
 ],
 "metadata": {
  "kernelspec": {
   "display_name": "Python 3",
   "language": "python",
   "name": "python3"
  },
  "language_info": {
   "codemirror_mode": {
    "name": "ipython",
    "version": 3
   },
   "file_extension": ".py",
   "mimetype": "text/x-python",
   "name": "python",
   "nbconvert_exporter": "python",
   "pygments_lexer": "ipython3",
   "version": "3.8.5"
  }
 },
 "nbformat": 4,
 "nbformat_minor": 4
}
