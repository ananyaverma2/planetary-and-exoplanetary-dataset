{
 "cells": [
  {
   "cell_type": "markdown",
   "metadata": {},
   "source": [
    "# planetary-and-exoplanetary-dataset"
   ]
  },
  {
   "cell_type": "markdown",
   "metadata": {},
   "source": [
    "### This notebook contains data extracted from the following datasets:\n",
    "* Stellarium\n",
    "* Skyfield\n",
    "* HYG dataset\n",
    "* Exoplanets dataset"
   ]
  },
  {
   "cell_type": "markdown",
   "metadata": {},
   "source": [
    "## download libraries"
   ]
  },
  {
   "cell_type": "code",
   "execution_count": 321,
   "metadata": {},
   "outputs": [],
   "source": [
    "import numpy as np\n",
    "import pandas as pd\n",
    "import math\n",
    "import csv\n",
    "import matplotlib.pyplot as plt\n",
    "import random\n",
    "from mpl_toolkits.mplot3d import Axes3D"
   ]
  },
  {
   "cell_type": "markdown",
   "metadata": {},
   "source": [
    "# Stellarium\n",
    "The below mentioned files are taken from the Stellarium database"
   ]
  },
  {
   "cell_type": "markdown",
   "metadata": {},
   "source": [
    "## Constellations names"
   ]
  },
  {
   "cell_type": "code",
   "execution_count": 323,
   "metadata": {},
   "outputs": [],
   "source": [
    "constellations_names_csv = pd.read_csv(\"data/constellation_names.csv\", \n",
    "                                       delimiter= ',', header = None)\n",
    "constellations_names_csv.columns = ['cons_name_abb', 'cons_name', 'cons_name_std']"
   ]
  },
  {
   "cell_type": "code",
   "execution_count": 324,
   "metadata": {},
   "outputs": [],
   "source": [
    "constellation_names = {}\n",
    "for rows, cols in constellations_names_csv.iterrows():\n",
    "    constellation_names[cols['cons_name_abb']] =  cols['cons_name']\n",
    "# print(constellation_names)"
   ]
  },
  {
   "cell_type": "code",
   "execution_count": 339,
   "metadata": {},
   "outputs": [
    {
     "name": "stdout",
     "output_type": "stream",
     "text": [
      "[('Aql', 'Aquila'), ('And', 'Andromeda'), ('Scl', 'Sculptor')]\n"
     ]
    }
   ],
   "source": [
    "# visualize\n",
    "print(list(constellation_names.items())[:3])"
   ]
  },
  {
   "cell_type": "markdown",
   "metadata": {},
   "source": [
    "## Constellations art"
   ]
  },
  {
   "cell_type": "code",
   "execution_count": 331,
   "metadata": {},
   "outputs": [
    {
     "name": "stderr",
     "output_type": "stream",
     "text": [
      "b'Skipping line 6: expected 11 fields, saw 12\\nSkipping line 74: expected 11 fields, saw 12\\n'\n"
     ]
    }
   ],
   "source": [
    "constellations_art_csv = pd.read_csv(\"data/constellations_art.csv\", delimiter=' ', header = None, error_bad_lines=False)\n",
    "constellations_art_csv.loc[-1] = [\"Ara\",\"ara.png\", \"98\", \"70\", \"83081\", \"191\", \"93\", \"85727\", \"107\", \"249\", \"88714\"] \n",
    "constellations_art_csv.loc[-2] = [\"Sge\", \"sagitta.png\", \"6\", \"12\", \"98920\", \"249\", \"213\", \"96757\", \"218\", \"243\", \"96837\"] \n",
    "\n",
    "constellations_art_csv.columns = ['cons_name_abb', 'image', \"star1_x\", \"star1_y\", \"star1_hip\", \"star2_x\", \"star2_y\", \"star2_hip\", \"star3_x\", \"star3_y\", \"star3_hip\"]"
   ]
  },
  {
   "cell_type": "code",
   "execution_count": 333,
   "metadata": {},
   "outputs": [
    {
     "data": {
      "text/html": [
       "<div>\n",
       "<style scoped>\n",
       "    .dataframe tbody tr th:only-of-type {\n",
       "        vertical-align: middle;\n",
       "    }\n",
       "\n",
       "    .dataframe tbody tr th {\n",
       "        vertical-align: top;\n",
       "    }\n",
       "\n",
       "    .dataframe thead th {\n",
       "        text-align: right;\n",
       "    }\n",
       "</style>\n",
       "<table border=\"1\" class=\"dataframe\">\n",
       "  <thead>\n",
       "    <tr style=\"text-align: right;\">\n",
       "      <th></th>\n",
       "      <th>cons_name_abb</th>\n",
       "      <th>image</th>\n",
       "      <th>star1_x</th>\n",
       "      <th>star1_y</th>\n",
       "      <th>star1_hip</th>\n",
       "      <th>star2_x</th>\n",
       "      <th>star2_y</th>\n",
       "      <th>star2_hip</th>\n",
       "      <th>star3_x</th>\n",
       "      <th>star3_y</th>\n",
       "      <th>star3_hip</th>\n",
       "    </tr>\n",
       "  </thead>\n",
       "  <tbody>\n",
       "    <tr>\n",
       "      <th>0</th>\n",
       "      <td>And</td>\n",
       "      <td>andromeda.png</td>\n",
       "      <td>198</td>\n",
       "      <td>215</td>\n",
       "      <td>3881</td>\n",
       "      <td>337</td>\n",
       "      <td>136</td>\n",
       "      <td>3092</td>\n",
       "      <td>224</td>\n",
       "      <td>428</td>\n",
       "      <td>9640</td>\n",
       "    </tr>\n",
       "    <tr>\n",
       "      <th>1</th>\n",
       "      <td>Ant</td>\n",
       "      <td>antlia.png</td>\n",
       "      <td>4</td>\n",
       "      <td>84</td>\n",
       "      <td>51172</td>\n",
       "      <td>72</td>\n",
       "      <td>69</td>\n",
       "      <td>47758</td>\n",
       "      <td>42</td>\n",
       "      <td>120</td>\n",
       "      <td>48926</td>\n",
       "    </tr>\n",
       "    <tr>\n",
       "      <th>2</th>\n",
       "      <td>Aps</td>\n",
       "      <td>apus.png</td>\n",
       "      <td>66</td>\n",
       "      <td>60</td>\n",
       "      <td>81852</td>\n",
       "      <td>76</td>\n",
       "      <td>87</td>\n",
       "      <td>81065</td>\n",
       "      <td>163</td>\n",
       "      <td>110</td>\n",
       "      <td>72370</td>\n",
       "    </tr>\n",
       "  </tbody>\n",
       "</table>\n",
       "</div>"
      ],
      "text/plain": [
       "  cons_name_abb          image star1_x star1_y star1_hip star2_x star2_y  \\\n",
       "0           And  andromeda.png     198     215      3881     337     136   \n",
       "1           Ant     antlia.png       4      84     51172      72      69   \n",
       "2           Aps       apus.png      66      60     81852      76      87   \n",
       "\n",
       "  star2_hip star3_x star3_y star3_hip  \n",
       "0      3092     224     428      9640  \n",
       "1     47758      42     120     48926  \n",
       "2     81065     163     110     72370  "
      ]
     },
     "execution_count": 333,
     "metadata": {},
     "output_type": "execute_result"
    }
   ],
   "source": [
    "# visualize\n",
    "constellations_art_csv.head(3)"
   ]
  },
  {
   "cell_type": "markdown",
   "metadata": {},
   "source": [
    "### Visualizing the values of constellations_art_csv"
   ]
  },
  {
   "cell_type": "code",
   "execution_count": 390,
   "metadata": {
    "scrolled": false
   },
   "outputs": [
    {
     "data": {
      "image/png": "[encoded data removed]",
      "text/plain": [
       "<Figure size 800x800 with 1 Axes>"
      ]
     },
     "metadata": {
      "needs_background": "light"
     },
     "output_type": "display_data"
    }
   ],
   "source": [
    "star1_x, star1_y, star2_x, star2_y, star3_x, star3_y = [], [], [], [], [], []\n",
    "star_x, star_y = [], []\n",
    "\n",
    "for i in range(len(constellations_art_csv)):\n",
    "    star1_x = list(constellations_art_csv['star1_x'])\n",
    "    star1_y = list(constellations_art_csv['star1_y'])\n",
    "    star2_x = list(constellations_art_csv['star2_x'])\n",
    "    star2_y = list(constellations_art_csv['star2_y'])\n",
    "    star3_x = list(constellations_art_csv['star3_x'])\n",
    "    star3_y = list(constellations_art_csv['star3_y'])\n",
    "    abb = list(constellations_art_csv['cons_name_abb'])\n",
    "\n",
    "plt.figure(figsize=(10,10), dpi=80)\n",
    "\n",
    "for i in range(83):\n",
    "    r = random.random()\n",
    "    b = random.random()\n",
    "    g = random.random()\n",
    "    color = (r, g, b)\n",
    "    star_x = ([star1_x[i], star2_x[i], star3_x[i]])\n",
    "    star_y = ([star1_y[i], star2_y[i], star3_y[i]])\n",
    "    plt.scatter(star_x, star_y, color = color, label = \"{} : {}\".format(abb[i], \n",
    "                                                                   constellation_names[abb[i]]))\n",
    "    plt.legend(loc='upper center', bbox_to_anchor=(0.5, -0.05),\n",
    "          fancybox=True, shadow=True, ncol=5)"
   ]
  },
  {
   "cell_type": "markdown",
   "metadata": {},
   "source": [
    "## Constellations hip"
   ]
  },
  {
   "cell_type": "code",
   "execution_count": 334,
   "metadata": {
    "scrolled": true
   },
   "outputs": [],
   "source": [
    "column_names = list(range(1,60))\n",
    "constellations_hip_csv = pd.read_csv(\"data/constellations_hip.csv\", \n",
    "                                     delimiter=' ', header = None, names = column_names)"
   ]
  },
  {
   "cell_type": "code",
   "execution_count": 335,
   "metadata": {},
   "outputs": [],
   "source": [
    "constellations_lines = {}\n",
    "for i in range(88):\n",
    "    constellations_lines[constellations_hip_csv[1][i]] = constellations_hip_csv[2][i]"
   ]
  },
  {
   "cell_type": "code",
   "execution_count": 337,
   "metadata": {},
   "outputs": [],
   "source": [
    "constellation_lines_bw_hip = {}\n",
    "hip_values = []\n",
    "for i in range(88):\n",
    "    for j in range(3,59):\n",
    "        if not(math.isnan(float(constellations_hip_csv[j][i]))):\n",
    "            hip_values.append(constellations_hip_csv[j][i])\n",
    "    constellation_lines_bw_hip[constellations_hip_csv[1][i]] = hip_values\n",
    "    hip_values = []"
   ]
  },
  {
   "cell_type": "code",
   "execution_count": 349,
   "metadata": {},
   "outputs": [
    {
     "name": "stdout",
     "output_type": "stream",
     "text": [
      "[('Aql', ['98036', 97649.0, 97649.0, 97278.0, 97649.0, 95501.0, 95501.0, 97804.0, 99473.0, 97804.0, 95501.0, 93747.0, 93747.0, 93244.0, 95501.0, 93805.0]), ('And', ['677', 3092.0, 3092.0, 5447.0, 9640.0, 5447.0, 5447.0, 4436.0, 4436.0, 3881.0]), ('Scl', ['116231', 4577.0, 4577.0, 115102.0, 115102.0, 116231.0])]\n"
     ]
    }
   ],
   "source": [
    "# visualize\n",
    "print(list(constellation_lines_bw_hip.items())[:3])"
   ]
  },
  {
   "cell_type": "markdown",
   "metadata": {},
   "source": [
    "## Ssystems major"
   ]
  },
  {
   "cell_type": "code",
   "execution_count": 361,
   "metadata": {},
   "outputs": [],
   "source": [
    "with open('data/ssystem_major.csv', newline='') as f:\n",
    "    reader = csv.reader(f)\n",
    "    temp_data_ssystem_major = list(reader)"
   ]
  },
  {
   "cell_type": "code",
   "execution_count": 362,
   "metadata": {},
   "outputs": [],
   "source": [
    "data_ssystem_major = []\n",
    "\n",
    "for i in range(len(temp_data_ssystem_major)):\n",
    "    try:\n",
    "        if temp_data_ssystem_major[i][0][0] != \"#\":\n",
    "            data_ssystem_major.append(temp_data_ssystem_major[i])\n",
    "    except:\n",
    "        continue"
   ]
  },
  {
   "cell_type": "code",
   "execution_count": 364,
   "metadata": {},
   "outputs": [],
   "source": [
    "temp_major = []\n",
    "temp2_major = []\n",
    "for i in range(len(data_ssystem_major)):\n",
    "    if \"type=\" not in data_ssystem_major[i][0]:\n",
    "        temp_major.append(data_ssystem_major[i])\n",
    "    else:\n",
    "        temp_major.append(data_ssystem_major[i])\n",
    "        temp2_major.append(temp_major)\n",
    "        temp_major = []"
   ]
  },
  {
   "cell_type": "code",
   "execution_count": 368,
   "metadata": {},
   "outputs": [
    {
     "name": "stdout",
     "output_type": "stream",
     "text": [
      "[[['[adrastea]'], ['iau_moon_number=JXV'], ['absolute_magnitude=12.4'], ['albedo=0.1'], ['color=1.', ' 0.9', ' 0.75'], ['name=Adrastea'], ['orbit_AscendingNode=253.6924110934923'], ['orbit_Eccentricity=0.006543120249224196'], ['orbit_Epoch=2454619.50000'], ['orbit_Inclination=0.06166936906340893'], ['orbit_LongOfPericenter=249.4662007624690000'], ['orbit_MeanLongitude=252.4809048448870000'], ['orbit_Period=0.3023760117035458'], ['orbit_SemiMajorAxis=129866.6459712491'], ['parent=Jupiter'], ['radius=8.2'], ['rot_equator_ascending_node=213.7'], ['rot_obliquity=15.5'], ['rot_rotation_offset=309.52'], ['rot_pole_ra=268.05'], ['rot_pole_ra1=-0.009'], ['rot_pole_de=64.49'], ['rot_pole_de1=0.003'], ['rot_pole_w0=33.29'], ['rot_pole_w1=1206.9986602'], ['tex_map=lune.png'], ['type=moon']]]\n"
     ]
    }
   ],
   "source": [
    "# visualize\n",
    "print(temp2_major[0:1])"
   ]
  },
  {
   "cell_type": "markdown",
   "metadata": {},
   "source": [
    "## Ssystems minor"
   ]
  },
  {
   "cell_type": "code",
   "execution_count": 369,
   "metadata": {},
   "outputs": [],
   "source": [
    "with open('data/ssystem_minor.csv', newline='') as f:\n",
    "    reader1 = csv.reader(f)\n",
    "    temp_data_ssystem_minor = list(reader1)"
   ]
  },
  {
   "cell_type": "code",
   "execution_count": 370,
   "metadata": {},
   "outputs": [],
   "source": [
    "data_ssystem_minor = []\n",
    "\n",
    "for i in range(len(temp_data_ssystem_minor)):\n",
    "    try:\n",
    "        if temp_data_ssystem_minor[i][0][0] != \"#\":\n",
    "            data_ssystem_minor.append(temp_data_ssystem_minor[i])\n",
    "    except:\n",
    "        continue"
   ]
  },
  {
   "cell_type": "code",
   "execution_count": 372,
   "metadata": {},
   "outputs": [],
   "source": [
    "temp_minor = [data_ssystem_minor[0][0]]\n",
    "temp2_minor = []\n",
    "for i in range(1,len(data_ssystem_minor)):\n",
    "    if \"=\" in data_ssystem_minor[i][0]:\n",
    "        temp_minor.append(data_ssystem_minor[i])\n",
    "    else:\n",
    "        temp2_minor.append(temp_minor)\n",
    "        temp_minor = [data_ssystem_minor[i]]"
   ]
  },
  {
   "cell_type": "code",
   "execution_count": 374,
   "metadata": {},
   "outputs": [
    {
     "name": "stdout",
     "output_type": "stream",
     "text": [
      "[['[TeslaRoadster]', ['type                        = artificial'], ['absolute_magnitude          = 25.256'], ['name                        = Tesla Roadster (Starman)'], ['albedo                      = 1'], ['color                       = 1.0', '0.0', '0.0'], ['orbit_Epoch                 = 2458167.500000000'], ['orbit_TimeAtPericenter      = 2458153.5979641485'], ['orbit_PericenterDistance    = 0.9860582813419811'], ['orbit_Eccentricity          = 0.2576842367146164'], ['orbit_ArgOfPericenter       = 177.3364041029062'], ['orbit_AscendingNode         = 317.3183428774018'], ['orbit_Inclination           = 1.085063111224933'], ['coord_func                  = comet_orbit']]]\n"
     ]
    }
   ],
   "source": [
    "# visualize\n",
    "print(temp2_minor[0:1])"
   ]
  },
  {
   "cell_type": "markdown",
   "metadata": {},
   "source": [
    "## Base locations"
   ]
  },
  {
   "cell_type": "code",
   "execution_count": 375,
   "metadata": {},
   "outputs": [],
   "source": [
    "with open('data/base_locations.txt', newline='') as f:\n",
    "    reader2 = csv.reader(f)\n",
    "    base_locations_csv = list(reader2)"
   ]
  },
  {
   "cell_type": "code",
   "execution_count": 376,
   "metadata": {},
   "outputs": [],
   "source": [
    "base_locations_t = []\n",
    "\n",
    "for i in range(len(base_locations_csv)):\n",
    "    try:\n",
    "        if base_locations_csv[i][0][0] != \"#\":\n",
    "            base_locations_t.append(base_locations_csv[i])\n",
    "    except:\n",
    "        continue"
   ]
  },
  {
   "cell_type": "code",
   "execution_count": 377,
   "metadata": {},
   "outputs": [],
   "source": [
    "temp_base = []\n",
    "temp_base2 = []\n",
    "str = \"\"\n",
    "for i in base_locations_t:\n",
    "    i.append(\"\\t\")\n",
    "    for char in i[ : :1][0]:\n",
    "        if char != \"\\t\":\n",
    "            str = str+char\n",
    "        else:\n",
    "            temp_base.append(str)\n",
    "            str = \"\"\n",
    "    temp_base.append(str)\n",
    "    str = \"\"\n",
    "    temp_base2.append(temp_base)\n",
    "    temp_base = []"
   ]
  },
  {
   "cell_type": "code",
   "execution_count": 382,
   "metadata": {},
   "outputs": [],
   "source": [
    "cols = [\"LocationName\", \"Provice/State\", \"Region\", \"Type code\", \"Population (thousand)\", \n",
    "        \"Latitude (deg[N/S]\", \"Longitude (deg[E/W])\", \"Altitude (meters)\", \n",
    "        \"Light Pollution (1-9 Bortle scale)\", \"TimeZone\", \"Planet\", \"LandscapeKey\"]\n",
    "base_locations = pd.DataFrame(temp_base2, columns=cols)"
   ]
  },
  {
   "cell_type": "code",
   "execution_count": 388,
   "metadata": {},
   "outputs": [
    {
     "data": {
      "text/html": [
       "<div>\n",
       "<style scoped>\n",
       "    .dataframe tbody tr th:only-of-type {\n",
       "        vertical-align: middle;\n",
       "    }\n",
       "\n",
       "    .dataframe tbody tr th {\n",
       "        vertical-align: top;\n",
       "    }\n",
       "\n",
       "    .dataframe thead th {\n",
       "        text-align: right;\n",
       "    }\n",
       "</style>\n",
       "<table border=\"1\" class=\"dataframe\">\n",
       "  <thead>\n",
       "    <tr style=\"text-align: right;\">\n",
       "      <th></th>\n",
       "      <th>LocationName</th>\n",
       "      <th>Provice/State</th>\n",
       "      <th>Region</th>\n",
       "      <th>Type code</th>\n",
       "      <th>Population (thousand)</th>\n",
       "      <th>Latitude (deg[N/S]</th>\n",
       "      <th>Longitude (deg[E/W])</th>\n",
       "      <th>Altitude (meters)</th>\n",
       "      <th>Light Pollution (1-9 Bortle scale)</th>\n",
       "      <th>TimeZone</th>\n",
       "      <th>Planet</th>\n",
       "      <th>LandscapeKey</th>\n",
       "    </tr>\n",
       "  </thead>\n",
       "  <tbody>\n",
       "    <tr>\n",
       "      <th>0</th>\n",
       "      <td>les Escaldes</td>\n",
       "      <td>Escaldes-Engordany</td>\n",
       "      <td>19</td>\n",
       "      <td>R</td>\n",
       "      <td>15.853</td>\n",
       "      <td>42.50729N</td>\n",
       "      <td>1.53414E</td>\n",
       "      <td>1033</td>\n",
       "      <td>5</td>\n",
       "      <td>Europe/Andorra</td>\n",
       "      <td>None</td>\n",
       "      <td>None</td>\n",
       "    </tr>\n",
       "  </tbody>\n",
       "</table>\n",
       "</div>"
      ],
      "text/plain": [
       "   LocationName       Provice/State Region Type code Population (thousand)  \\\n",
       "0  les Escaldes  Escaldes-Engordany     19         R                15.853   \n",
       "\n",
       "  Latitude (deg[N/S] Longitude (deg[E/W]) Altitude (meters)  \\\n",
       "0          42.50729N             1.53414E              1033   \n",
       "\n",
       "  Light Pollution (1-9 Bortle scale)        TimeZone Planet LandscapeKey  \n",
       "0                                  5  Europe/Andorra   None         None  "
      ]
     },
     "execution_count": 388,
     "metadata": {},
     "output_type": "execute_result"
    }
   ],
   "source": [
    "# visualize\n",
    "base_locations_df = pd.DataFrame(base_locations[0:1])\n",
    "base_locations_df.head(1)"
   ]
  },
  {
   "cell_type": "markdown",
   "metadata": {},
   "source": [
    "# HYG dataset"
   ]
  },
  {
   "cell_type": "code",
   "execution_count": 396,
   "metadata": {},
   "outputs": [],
   "source": [
    "hyg_visualization = pd.read_csv(\"data/hygdata_v3.csv\")"
   ]
  },
  {
   "cell_type": "code",
   "execution_count": 398,
   "metadata": {},
   "outputs": [],
   "source": [
    "# extracted the star distance according to the hip number\n",
    "collect_hyg_hip = list(hyg_visualization['hip'])\n",
    "collect_hyg_dist = list(hyg_visualization['dist'])"
   ]
  },
  {
   "cell_type": "markdown",
   "metadata": {},
   "source": [
    "# Skyfield (hip_main.dat)"
   ]
  },
  {
   "cell_type": "markdown",
   "metadata": {},
   "source": [
    "### RA and Dec ( RAhms and DEdms)\n",
    "* **RA** is the position of a star measured in the east–west direction on the sky (like longitude, the position of a place on Earth measured east or west of the prime meridian at Greenwich, England).\n",
    "* **Dec** is the position of the star measured in the north–south direction, like the latitude of a city, which is measured north or south of the equator.\n",
    "* RA in **units of hours, minutes, and seconds**, like time. We list Dec in **degrees, minutes, and seconds of arc**. Ninety degrees make up a right angle, 60 minutes of arc make up a degree, and 60 seconds of arc equal a minute of arc. A minute or second of arc is also often called an “arc minute” or an “arc second,” respectively.\n",
    "* The process will be to convert the equitorial coordinates to the galactic coordinates so that they can be plotted using matplotlib.\n",
    " * **ra, dec = equatorial coordinates**\n",
    " * **l,b = galatic coordinates**\n",
    "* For this, first convert the ra and dec values into degrees and then convert these values into the galatic coordinates"
   ]
  },
  {
   "cell_type": "code",
   "execution_count": 392,
   "metadata": {},
   "outputs": [],
   "source": [
    "#https://github.com/skyfielders/python-skyfield/blob/aa59e2d4711c3a95804170889f138402edbf4237/skyfield/data/hipparcos.py\n",
    "#https://github.com/skyfielders/python-skyfield/blob/aa59e2d4711c3a95804170889f138402edbf4237/skyfield/documentation/stars.rst\n",
    "\n",
    "COLUMN_NAMES = ('Catalog', 'hip', 'Proxy', 'RAhms', 'DEdms', 'Vmag',\n",
    "    'VarFlag', 'r_Vmag', 'RAdeg', 'DEdeg', 'AstroRef', 'Plx', 'pmRA',\n",
    "    'pmDE', 'e_RAdeg', 'e_DEdeg', 'e_Plx', 'e_pmRA', 'e_pmDE', 'DE:RA',\n",
    "    'Plx:RA', 'Plx:DE', 'pmRA:RA', 'pmRA:DE', 'pmRA:Plx', 'pmDE:RA',\n",
    "    'pmDE:DE', 'pmDE:Plx', 'pmDE:pmRA', 'F1', 'F2', '---', 'BTmag',\n",
    "    'e_BTmag', 'VTmag', 'e_VTmag', 'm_BTmag', 'B-V', 'e_B-V', 'r_B-V',\n",
    "    'V-I', 'e_V-I', 'r_V-I', 'CombMag', 'Hpmag', 'e_Hpmag', 'Hpscat',\n",
    "    'o_Hpmag', 'm_Hpmag', 'Hpmax', 'HPmin', 'Period', 'HvarType',\n",
    "    'moreVar', 'morePhoto', 'CCDM', 'n_CCDM', 'Nsys', 'Ncomp',\n",
    "    'MultFlag', 'Source', 'Qual', 'm_HIP', 'theta', 'rho', 'e_rho',\n",
    "    'dHp', 'e_dHp', 'Survey', 'Chart', 'Notes', 'HD', 'BD', 'CoD',\n",
    "    'CPD', '(V-I)red', 'SpType', 'r_SpType',)\n",
    "\n",
    "hip_main_txt = pd.read_csv(\"data/hip_main.txt\", delimiter = \"|\", names=COLUMN_NAMES, \n",
    "                           compression=None)\n",
    "hip_main_txt = hip_main_txt.set_index('hip')"
   ]
  },
  {
   "cell_type": "markdown",
   "metadata": {},
   "source": [
    "## creating general purpose functions from the hip dataset"
   ]
  },
  {
   "cell_type": "markdown",
   "metadata": {},
   "source": [
    "### get RA and Dec values from hip values"
   ]
  },
  {
   "cell_type": "code",
   "execution_count": 223,
   "metadata": {},
   "outputs": [
    {
     "name": "stdout",
     "output_type": "stream",
     "text": [
      "RA : 17h, 57m, 48.97s\n",
      "Dec : +04deg, 40m, 05.8s\n"
     ]
    }
   ],
   "source": [
    "def get_RA_dec_by_hip(hip):\n",
    "    RA_list = []\n",
    "    Dec_list = []\n",
    "    for rows, cols in hip_main_txt.iterrows():\n",
    "        if rows == hip:\n",
    "            RA_list = cols['RAhms'].split()\n",
    "            Dec_list = cols['DEdms'].split()\n",
    "            print(\"RA : {}h, {}m, {}s\".format(RA_list[0], RA_list[1], RA_list[2]))\n",
    "            print(\"Dec : {}deg, {}m, {}s\".format(Dec_list[0], Dec_list[1], Dec_list[2]))\n",
    "            return RA_list, Dec_list\n",
    "\n",
    "RA, Dec = get_RA_dec_by_hip(87937)"
   ]
  },
  {
   "cell_type": "markdown",
   "metadata": {},
   "source": [
    "### get RA and Dec values (in degrees) from hip values"
   ]
  },
  {
   "cell_type": "code",
   "execution_count": 224,
   "metadata": {},
   "outputs": [
    {
     "name": "stdout",
     "output_type": "stream",
     "text": [
      "RA: 000.00091185 and Dec: +01.08901332\n"
     ]
    }
   ],
   "source": [
    "def get_RA_dec_by_hip_degree(hip):\n",
    "    for rows, cols in hip_main_txt.iterrows():\n",
    "        if rows == hip:\n",
    "            return (cols['RAdeg'], cols['DEdeg'])\n",
    "            \n",
    "\n",
    "RA_deg, Dec_deg = get_RA_dec_by_hip_degree(1)\n",
    "print(\"RA: {} and Dec: {}\".format(RA_deg, Dec_deg))"
   ]
  },
  {
   "cell_type": "markdown",
   "metadata": {},
   "source": [
    "### Convert equatorial coordinates (ra, dec) and galactic coordinates (𝑙,𝑏)\n",
    "####  𝑏=𝑠𝑖𝑛−1(𝑐𝑜𝑠(dec)∗𝑐𝑜𝑠(27.4)∗𝑐𝑜𝑠(ra−192.25)+𝑠𝑖𝑛(dec)∗𝑠𝑖𝑛(27.4))\n",
    "#### 𝑙=𝑡𝑎𝑛−1(𝑠𝑖𝑛(dec)−𝑠𝑖𝑛(𝑏)∗𝑠𝑖𝑛(27.4)𝑐𝑜𝑠(dec)∗𝑐𝑜𝑠(27.4)∗𝑠𝑖𝑛(ra−192.25))+33"
   ]
  },
  {
   "cell_type": "code",
   "execution_count": 225,
   "metadata": {},
   "outputs": [],
   "source": [
    "#where (𝛼,𝛿) is the (ra, dec) values\n",
    "\n",
    "def equ2gal(ra, dec):\n",
    "    \n",
    "    ra = np.deg2rad(float(ra))\n",
    "    dec = np.deg2rad(float(dec))\n",
    "    b = np.arcsin(np.cos(dec)*np.cos(27.4)*np.cos(ra-192.25)+\n",
    "         np.sin(dec)*np.sin(27.4))\n",
    "    l = np.arctan((np.sin(dec)-np.sin(b))*np.sin(27.4)*\n",
    "                  np.cos(dec)*np.cos(27.4)*np.sin(ra-192.25))+33\n",
    "    return l, b\n",
    "\n",
    "x_pos = []\n",
    "y_pos = []\n",
    "\n",
    "for rows, cols in hip_main_txt.iterrows():\n",
    "    try:\n",
    "        ra = float(cols['RAdeg'])\n",
    "    except:\n",
    "        ra = 0\n",
    "    try:\n",
    "        dec = float(cols['DEdeg'])\n",
    "    except:\n",
    "        dec = 0\n",
    "    l, b = equ2gal(ra, dec)\n",
    "    x_pos.append(l)\n",
    "    y_pos.append(b)\n",
    "\n",
    "hip_main_txt[\"x_position\"] = x_pos\n",
    "hip_main_txt[\"y_position\"] = y_pos"
   ]
  },
  {
   "cell_type": "code",
   "execution_count": 34,
   "metadata": {},
   "outputs": [
    {
     "name": "stdout",
     "output_type": "stream",
     "text": [
      "(33.146182060432565, 0.5695493882865139)\n"
     ]
    }
   ],
   "source": [
    "print(equ2gal(000.00091185, +01.08901332))"
   ]
  },
  {
   "cell_type": "markdown",
   "metadata": {},
   "source": [
    "### display the constellations"
   ]
  },
  {
   "cell_type": "code",
   "execution_count": 393,
   "metadata": {},
   "outputs": [],
   "source": [
    "def display_constellations_by_abb(name):\n",
    "    x = []\n",
    "    y = []\n",
    "    # get all the hip numbers of a constellation\n",
    "    for i in constellation_lines_bw_hip[name]:\n",
    "        # get the ra and dec values in degree from hip number\n",
    "        \n",
    "        r, d = get_RA_dec_by_hip_degree(float(i))\n",
    "        # convert r, d to galatic coordinates\n",
    "        l, b = equ2gal(r, d)\n",
    "        x.append(l)\n",
    "        y.append(b)\n",
    "    # connect successive points to form a constellation\n",
    "    for i in range(0, len(x), 2):\n",
    "        plt.plot(np.round(x[i:i+2],3), np.round(y[i:i+2],3), 'ro-')"
   ]
  },
  {
   "cell_type": "code",
   "execution_count": 394,
   "metadata": {},
   "outputs": [
    {
     "data": {
      "image/png": "[encoded data removed]",
      "text/plain": [
       "<Figure size 432x288 with 1 Axes>"
      ]
     },
     "metadata": {
      "needs_background": "light"
     },
     "output_type": "display_data"
    }
   ],
   "source": [
    "display_constellations_by_abb('Sct')"
   ]
  },
  {
   "cell_type": "markdown",
   "metadata": {},
   "source": [
    "## extracting the data from hip_main.txt\n",
    "* hip values\n",
    "* ra (hms) and dec (dms) values\n",
    "* ra and dec values in degrees\n",
    "* magnitude of stars"
   ]
  },
  {
   "cell_type": "code",
   "execution_count": 411,
   "metadata": {},
   "outputs": [],
   "source": [
    "COLUMN_NAMES = ('Catalog', 'hip', 'Proxy', 'RAhms', 'DEdms', 'Vmag',\n",
    "    'VarFlag', 'r_Vmag', 'RAdeg', 'DEdeg', 'AstroRef', 'Plx', 'pmRA',\n",
    "    'pmDE', 'e_RAdeg', 'e_DEdeg', 'e_Plx', 'e_pmRA', 'e_pmDE', 'DE:RA',\n",
    "    'Plx:RA', 'Plx:DE', 'pmRA:RA', 'pmRA:DE', 'pmRA:Plx', 'pmDE:RA',\n",
    "    'pmDE:DE', 'pmDE:Plx', 'pmDE:pmRA', 'F1', 'F2', '---', 'BTmag',\n",
    "    'e_BTmag', 'VTmag', 'e_VTmag', 'm_BTmag', 'B-V', 'e_B-V', 'r_B-V',\n",
    "    'V-I', 'e_V-I', 'r_V-I', 'CombMag', 'Hpmag', 'e_Hpmag', 'Hpscat',\n",
    "    'o_Hpmag', 'm_Hpmag', 'Hpmax', 'HPmin', 'Period', 'HvarType',\n",
    "    'moreVar', 'morePhoto', 'CCDM', 'n_CCDM', 'Nsys', 'Ncomp',\n",
    "    'MultFlag', 'Source', 'Qual', 'm_HIP', 'theta', 'rho', 'e_rho',\n",
    "    'dHp', 'e_dHp', 'Survey', 'Chart', 'Notes', 'HD', 'BD', 'CoD',\n",
    "    'CPD', '(V-I)red', 'SpType', 'r_SpType',)\n",
    "\n",
    "hip_file = pd.read_csv(\"data/hip_main.txt\", delimiter = \"|\", \n",
    "                            names=COLUMN_NAMES, compression=None)"
   ]
  },
  {
   "cell_type": "code",
   "execution_count": 412,
   "metadata": {},
   "outputs": [],
   "source": [
    "collect_hip = list(hip_file['hip']) #118218\n",
    "collect_ra = list(hip_file['RAhms']) #118218\n",
    "collect_dec = list(hip_file['DEdms']) #118218\n",
    "collect_mag = list(hip_file['Vmag']) #118218\n",
    "collect_r = list(hip_file['RAdeg']) #118218\n",
    "collect_d = list(hip_file['DEdeg']) #118218\n",
    "collect_distance = [0]*118218"
   ]
  },
  {
   "cell_type": "code",
   "execution_count": 413,
   "metadata": {},
   "outputs": [],
   "source": [
    "# calculating the xy positions from ra and dec values\n",
    "collect_xy = []\n",
    "collect_temp = []\n",
    "for i in range(len(collect_hip)):\n",
    "    try:\n",
    "        x, y =equ2gal(float(collect_r[i]), float(collect_d[i]))\n",
    "    except:\n",
    "        x = 0\n",
    "        y = 0\n",
    "    collect_temp.append(x)\n",
    "    collect_temp.append(y)\n",
    "    collect_xy.append(collect_temp)\n",
    "    collect_temp = []"
   ]
  },
  {
   "cell_type": "code",
   "execution_count": 414,
   "metadata": {},
   "outputs": [],
   "source": [
    "'''\n",
    "getting the constellations names based on the hip values from the file \n",
    "constellations_lines_bw_hip'''\n",
    "collect_dict_hip_cons = {}\n",
    "for i in constellation_lines_bw_hip.keys():\n",
    "    for j in constellation_lines_bw_hip[i]:\n",
    "        collect_dict_hip_cons[j] = i"
   ]
  },
  {
   "cell_type": "code",
   "execution_count": 138,
   "metadata": {},
   "outputs": [],
   "source": [
    "collect_consnames = [''] * 118218\n",
    "collect_keys = collect_dict_hip_cons.keys()\n",
    "for i in collect_keys:\n",
    "    if float(i) in collect_hip:\n",
    "        pos = collect_hip.index(float(i))\n",
    "        collect_consnames[pos] = constellation_names[collect_dict_hip_cons[i]]   "
   ]
  },
  {
   "cell_type": "code",
   "execution_count": 306,
   "metadata": {},
   "outputs": [],
   "source": [
    "'''\n",
    "collect the distance value for the hip value from the hyg dataset and then \n",
    "assign those values to the new dataset based on teh hip values '''\n",
    "\n",
    "collect_common_hip = list(set(collect_hyg_hip).intersection(collect_hip))\n",
    "for i in collect_common_hip:\n",
    "    pos = collect_hyg_hip.index(i)\n",
    "    value_d1 = collect_hyg_dist[pos]\n",
    "    pos2 = collect_hip.index(i)\n",
    "    collect_distance[pos2] = value_d1"
   ]
  },
  {
   "cell_type": "markdown",
   "metadata": {},
   "source": [
    "# Exoplanet"
   ]
  },
  {
   "cell_type": "code",
   "execution_count": 400,
   "metadata": {},
   "outputs": [],
   "source": [
    "exo = pd.read_csv(\"data/exoplanet.eu_catalog.dat\", delimiter = '\\t')"
   ]
  },
  {
   "cell_type": "code",
   "execution_count": 402,
   "metadata": {},
   "outputs": [],
   "source": [
    "collect_name = exo['# name']\n",
    "collect_mass = exo['mass']\n",
    "collect_distance2 = exo['star_distance']\n",
    "collect_radius = exo['radius']\n",
    "collect_r2 = exo['ra']\n",
    "collect_d2 = exo['dec']\n",
    "collect_mag2 = exo['mag_v']"
   ]
  },
  {
   "cell_type": "code",
   "execution_count": 403,
   "metadata": {},
   "outputs": [],
   "source": [
    "# getting cons names from star names\n",
    "collect_temp_cons_name = [\" \"]* 4870\n",
    "collect_name = list(collect_name)\n",
    "for i in range(len(collect_name)):\n",
    "    try:\n",
    "        s = collect_name[i].split()[1]\n",
    "        collect_temp_cons_name[i] = constellation_names[s]\n",
    "    except:\n",
    "        continue"
   ]
  },
  {
   "cell_type": "code",
   "execution_count": 404,
   "metadata": {},
   "outputs": [],
   "source": [
    "# getting hip numbers from star names\n",
    "collect_temp_hip = [\" \"]* 4870\n",
    "collect_name = list(collect_name)\n",
    "for i in range(len(collect_name)):\n",
    "    if collect_name[i].split()[0] == 'HIP':\n",
    "        collect_temp_hip[i] = collect_name[i].split()[1]"
   ]
  },
  {
   "cell_type": "code",
   "execution_count": 405,
   "metadata": {},
   "outputs": [],
   "source": [
    "# to calculate the xy positions of the stars\n",
    "collect_xy2 = []\n",
    "collect_temp2 = []\n",
    "c2 = 0\n",
    "for i2 in range(len(collect_temp_hip)):\n",
    "    try:\n",
    "        x2, y2 =equ2gal(float(collect_r2[i2]), float(collect_d2[i2]))\n",
    "    except:\n",
    "        x2 = 0\n",
    "        y2 = 0\n",
    "        c2 = c2+1\n",
    "    collect_temp2.append(x2)\n",
    "    collect_temp2.append(y2)\n",
    "    collect_xy2.append(collect_temp2)\n",
    "    collect_temp2 = []"
   ]
  },
  {
   "cell_type": "code",
   "execution_count": 406,
   "metadata": {},
   "outputs": [],
   "source": [
    "# convert ra and dec from degree to hms and dms\n",
    "\n",
    "def deg2original(ra, dec):\n",
    "    rs = \"+\"\n",
    "    if ra <0:\n",
    "        rs = \"-\"\n",
    "    raH = int(abs(ra)/15)\n",
    "    raM = int(((abs(ra)/15)-raH)*60)\n",
    "    raS = ((((abs(ra)/15)-raH)*60)-raM)*60\n",
    "    RA = '{0}{1} {2} {3}'.format(rs, raH, raM, raS)\n",
    "    \n",
    "    ds = \"+\"\n",
    "    if dec <0:\n",
    "        ds = \"-\"\n",
    "    d = int(abs(dec))\n",
    "    m = int((abs(dec) - d) * 60)\n",
    "    s = (abs(dec) - d - m/60) * 3600.00\n",
    "    DEC = '{0}{1} {2} {3}'.format(ds, d, m, s)\n",
    "    \n",
    "    return RA, DEC\n",
    "    \n",
    "collect_ra2 = []\n",
    "collect_dec2 = []\n",
    "for i in range(len(collect_r2)):\n",
    "    ra2, dec2 = deg2original(collect_r2[i], collect_d2[i])\n",
    "    collect_ra2.append(ra2)\n",
    "    collect_dec2.append(dec2)"
   ]
  },
  {
   "cell_type": "code",
   "execution_count": 409,
   "metadata": {},
   "outputs": [
    {
     "name": "stderr",
     "output_type": "stream",
     "text": [
      "/tmp/ipykernel_20578/1018129695.py:7: SettingWithCopyWarning: \n",
      "A value is trying to be set on a copy of a slice from a DataFrame\n",
      "\n",
      "See the caveats in the documentation: https://pandas.pydata.org/pandas-docs/stable/user_guide/indexing.html#returning-a-view-versus-a-copy\n",
      "  collect_mag2[collect_temp_hip.index(i)] = collect_mag[pos]\n"
     ]
    }
   ],
   "source": [
    "# exporting the magnitude values from hip_main and adding them to the exoplanets list\n",
    "\n",
    "for i in collect_temp_hip:\n",
    "    try:\n",
    "        if float(i) in collect_hip:\n",
    "            pos = collect_hip.index(float(i))\n",
    "            collect_mag2[collect_temp_hip.index(i)] = collect_mag[pos]\n",
    "    except:\n",
    "        continue"
   ]
  },
  {
   "cell_type": "markdown",
   "metadata": {},
   "source": [
    "# Convert the collected data into dataframe"
   ]
  },
  {
   "cell_type": "markdown",
   "metadata": {},
   "source": [
    "So far I have collected :\n",
    "* hip\n",
    "* mag\n",
    "* ra and dec (units)\n",
    "* ra and dec (deg)\n",
    "* x and y\n",
    "* constellation names\n",
    "* distance\n",
    "* mass\n",
    "* radius"
   ]
  },
  {
   "cell_type": "code",
   "execution_count": 431,
   "metadata": {},
   "outputs": [],
   "source": [
    "# from hip_main dataset\n",
    "collect_df1= pd.DataFrame()\n",
    "collect_df1['hip'] = collect_hip[0:5]\n",
    "collect_df1['ra(hms)'] = collect_ra[0:5]\n",
    "collect_df1['dec(dms)'] = collect_dec[0:5]\n",
    "collect_df1['ra(deg)'] = collect_r[0:5]\n",
    "collect_df1['dec(deg)'] = collect_d[0:5]\n",
    "collect_df1['magnitude'] = collect_mag[0:5]\n",
    "collect_df1['xy position'] = collect_xy[0:5]\n",
    "collect_df1['constellation names'] = collect_consnames[0:5]\n",
    "collect_df1['distance(pc)'] = collect_distance[0:5]"
   ]
  },
  {
   "cell_type": "code",
   "execution_count": 432,
   "metadata": {},
   "outputs": [],
   "source": [
    "# deleting the rows whose hip values are common to the hip values of the exoplanet database\n",
    "\n",
    "for i in collect_temp_hip:\n",
    "    try:\n",
    "        collect_df1 = collect_df1[collect_df1.hip != float(i)]\n",
    "    except:\n",
    "        continue"
   ]
  },
  {
   "cell_type": "code",
   "execution_count": 433,
   "metadata": {},
   "outputs": [],
   "source": [
    "# from exoplanet dataset\n",
    "collect_df2 = pd.DataFrame()\n",
    "# collect_df2['star_name'] = collect_name\n",
    "collect_df2['mass(ju)'] = collect_mass\n",
    "collect_df2['distance(pc)'] = collect_distance2\n",
    "collect_df2['constellation names'] = collect_temp_cons_name\n",
    "collect_df2['hip'] = collect_temp_hip\n",
    "collect_df2['radius(ju)'] = collect_radius\n",
    "collect_df2['ra(deg)'] = collect_r2\n",
    "collect_df2['dec(deg)'] = collect_d2\n",
    "collect_df2['magnitude'] = collect_mag2\n",
    "collect_df2['xy position'] = collect_xy2\n",
    "collect_df2['ra(hms)'] = collect_ra2\n",
    "collect_df2['dec(dms)'] = collect_dec2"
   ]
  },
  {
   "cell_type": "code",
   "execution_count": 434,
   "metadata": {},
   "outputs": [],
   "source": [
    "# merging the two dataset\n",
    "collect_df3 = [collect_df1, collect_df2]\n",
    "collect_df4 = pd.concat(collect_df3, ignore_index=True)\n",
    "pd.set_option(\"display.max_rows\", None, \"display.max_columns\", None)"
   ]
  },
  {
   "cell_type": "code",
   "execution_count": 436,
   "metadata": {},
   "outputs": [
    {
     "data": {
      "text/html": [
       "<div>\n",
       "<style scoped>\n",
       "    .dataframe tbody tr th:only-of-type {\n",
       "        vertical-align: middle;\n",
       "    }\n",
       "\n",
       "    .dataframe tbody tr th {\n",
       "        vertical-align: top;\n",
       "    }\n",
       "\n",
       "    .dataframe thead th {\n",
       "        text-align: right;\n",
       "    }\n",
       "</style>\n",
       "<table border=\"1\" class=\"dataframe\">\n",
       "  <thead>\n",
       "    <tr style=\"text-align: right;\">\n",
       "      <th></th>\n",
       "      <th>hip</th>\n",
       "      <th>ra(hms)</th>\n",
       "      <th>dec(dms)</th>\n",
       "      <th>ra(deg)</th>\n",
       "      <th>dec(deg)</th>\n",
       "      <th>magnitude</th>\n",
       "      <th>xy position</th>\n",
       "      <th>constellation names</th>\n",
       "      <th>distance(pc)</th>\n",
       "      <th>mass(ju)</th>\n",
       "      <th>radius(ju)</th>\n",
       "    </tr>\n",
       "  </thead>\n",
       "  <tbody>\n",
       "    <tr>\n",
       "      <th>0</th>\n",
       "      <td>1</td>\n",
       "      <td>00 00 00.22</td>\n",
       "      <td>+01 05 20.4</td>\n",
       "      <td>000.00091185</td>\n",
       "      <td>+01.08901332</td>\n",
       "      <td>9.10</td>\n",
       "      <td>[33.146182060432565, 0.5695493882865139]</td>\n",
       "      <td></td>\n",
       "      <td>0.0</td>\n",
       "      <td>NaN</td>\n",
       "      <td>NaN</td>\n",
       "    </tr>\n",
       "    <tr>\n",
       "      <th>1</th>\n",
       "      <td>2</td>\n",
       "      <td>00 00 00.91</td>\n",
       "      <td>-19 29 55.8</td>\n",
       "      <td>000.00379737</td>\n",
       "      <td>-19.49883745</td>\n",
       "      <td>9.27</td>\n",
       "      <td>[33.15155299282359, 0.24095994926580427]</td>\n",
       "      <td></td>\n",
       "      <td>0.0</td>\n",
       "      <td>NaN</td>\n",
       "      <td>NaN</td>\n",
       "    </tr>\n",
       "    <tr>\n",
       "      <th>2</th>\n",
       "      <td>3</td>\n",
       "      <td>00 00 01.20</td>\n",
       "      <td>+38 51 33.4</td>\n",
       "      <td>000.00500795</td>\n",
       "      <td>+38.85928608</td>\n",
       "      <td>6.61</td>\n",
       "      <td>[33.05779634019187, 1.0972309975855212]</td>\n",
       "      <td></td>\n",
       "      <td>0.0</td>\n",
       "      <td>NaN</td>\n",
       "      <td>NaN</td>\n",
       "    </tr>\n",
       "    <tr>\n",
       "      <th>3</th>\n",
       "      <td>4</td>\n",
       "      <td>00 00 02.01</td>\n",
       "      <td>-51 53 36.8</td>\n",
       "      <td>000.00838170</td>\n",
       "      <td>-51.89354612</td>\n",
       "      <td>8.06</td>\n",
       "      <td>[33.08833798337465, -0.28352395291685617]</td>\n",
       "      <td></td>\n",
       "      <td>0.0</td>\n",
       "      <td>NaN</td>\n",
       "      <td>NaN</td>\n",
       "    </tr>\n",
       "    <tr>\n",
       "      <th>4</th>\n",
       "      <td>5</td>\n",
       "      <td>00 00 02.39</td>\n",
       "      <td>-40 35 28.4</td>\n",
       "      <td>000.00996534</td>\n",
       "      <td>-40.59122440</td>\n",
       "      <td>8.55</td>\n",
       "      <td>[33.11766086823969, -0.10076304160735447]</td>\n",
       "      <td></td>\n",
       "      <td>0.0</td>\n",
       "      <td>NaN</td>\n",
       "      <td>NaN</td>\n",
       "    </tr>\n",
       "  </tbody>\n",
       "</table>\n",
       "</div>"
      ],
      "text/plain": [
       "  hip      ra(hms)     dec(dms)       ra(deg)      dec(deg)  magnitude  \\\n",
       "0   1  00 00 00.22  +01 05 20.4  000.00091185  +01.08901332       9.10   \n",
       "1   2  00 00 00.91  -19 29 55.8  000.00379737  -19.49883745       9.27   \n",
       "2   3  00 00 01.20  +38 51 33.4  000.00500795  +38.85928608       6.61   \n",
       "3   4  00 00 02.01  -51 53 36.8  000.00838170  -51.89354612       8.06   \n",
       "4   5  00 00 02.39  -40 35 28.4  000.00996534  -40.59122440       8.55   \n",
       "\n",
       "                                 xy position constellation names  \\\n",
       "0   [33.146182060432565, 0.5695493882865139]                       \n",
       "1   [33.15155299282359, 0.24095994926580427]                       \n",
       "2    [33.05779634019187, 1.0972309975855212]                       \n",
       "3  [33.08833798337465, -0.28352395291685617]                       \n",
       "4  [33.11766086823969, -0.10076304160735447]                       \n",
       "\n",
       "   distance(pc)  mass(ju)  radius(ju)  \n",
       "0           0.0       NaN         NaN  \n",
       "1           0.0       NaN         NaN  \n",
       "2           0.0       NaN         NaN  \n",
       "3           0.0       NaN         NaN  \n",
       "4           0.0       NaN         NaN  "
      ]
     },
     "execution_count": 436,
     "metadata": {},
     "output_type": "execute_result"
    }
   ],
   "source": [
    "# visualize\n",
    "collect_df4.head(5)"
   ]
  },
  {
   "cell_type": "markdown",
   "metadata": {},
   "source": [
    "# Write the dataframe to a json file\n",
    "### to a folder names extracted data"
   ]
  },
  {
   "cell_type": "code",
   "execution_count": 424,
   "metadata": {},
   "outputs": [],
   "source": [
    "collect_json = collect_df4.to_json(orient=\"index\", \n",
    "                                   path_or_buf=\"extracted_data/combined_data.json\")"
   ]
  }
 ],
 "metadata": {
  "kernelspec": {
   "display_name": "Python 3",
   "language": "python",
   "name": "python3"
  },
  "language_info": {
   "codemirror_mode": {
    "name": "ipython",
    "version": 3
   },
   "file_extension": ".py",
   "mimetype": "text/x-python",
   "name": "python",
   "nbconvert_exporter": "python",
   "pygments_lexer": "ipython3",
   "version": "3.8.5"
  }
 },
 "nbformat": 4,
 "nbformat_minor": 4
}
